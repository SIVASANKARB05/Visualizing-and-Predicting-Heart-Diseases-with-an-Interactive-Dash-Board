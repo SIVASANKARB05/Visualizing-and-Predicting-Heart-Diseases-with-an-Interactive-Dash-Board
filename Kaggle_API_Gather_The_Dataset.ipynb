{
  "nbformat": 4,
  "nbformat_minor": 0,
  "metadata": {
    "colab": {
      "provenance": [],
      "collapsed_sections": []
    },
    "kernelspec": {
      "name": "python3",
      "display_name": "Python 3"
    },
    "language_info": {
      "name": "python"
    }
  },
  "cells": [
    {
      "cell_type": "code",
      "execution_count": null,
      "metadata": {
        "id": "9ibnYFd1RIS_"
      },
      "outputs": [],
      "source": [
        "!pip install -q kaggle"
      ]
    },
    {
      "cell_type": "code",
      "source": [
        "!mkdir ~/.kaggle #creating a kaggle dirctory"
      ],
      "metadata": {
        "colab": {
          "base_uri": "https://localhost:8080/"
        },
        "id": "Vi4u-xvbSKJV",
        "outputId": "ed829bf3-69a1-444d-ab79-b5fd1def10fa"
      },
      "execution_count": null,
      "outputs": [
        {
          "output_type": "stream",
          "name": "stdout",
          "text": [
            "mkdir: cannot create directory ‘/root/.kaggle’: File exists\n"
          ]
        }
      ]
    },
    {
      "cell_type": "code",
      "source": [
        "!cp kaggle.json ~/.kaggle/ #copying json file to folder"
      ],
      "metadata": {
        "id": "hV2Wky9CSZd5"
      },
      "execution_count": null,
      "outputs": []
    },
    {
      "cell_type": "code",
      "source": [
        "!chmod 600 ~/.kaggle/kaggle.json # change the permission"
      ],
      "metadata": {
        "id": "P68mw4fBTYzS"
      },
      "execution_count": null,
      "outputs": []
    },
    {
      "cell_type": "code",
      "source": [
        "!kaggle datasets download -d sathishkumarp01/heart-disease-prediction"
      ],
      "metadata": {
        "colab": {
          "base_uri": "https://localhost:8080/"
        },
        "id": "HGG_yD0uTwwC",
        "outputId": "b0456b06-d16d-40c3-b6f9-e21be49d6bb5"
      },
      "execution_count": null,
      "outputs": [
        {
          "output_type": "stream",
          "name": "stdout",
          "text": [
            "Downloading heart-disease-prediction.zip to /content\n",
            "\r  0% 0.00/3.16k [00:00<?, ?B/s]\n",
            "\r100% 3.16k/3.16k [00:00<00:00, 2.64MB/s]\n"
          ]
        }
      ]
    },
    {
      "cell_type": "code",
      "source": [
        "!unzip /content/heart-disease-prediction.zip"
      ],
      "metadata": {
        "colab": {
          "base_uri": "https://localhost:8080/"
        },
        "id": "XBSio-RhUh9D",
        "outputId": "5706a4a0-6fe7-499a-aede-d9157b834660"
      },
      "execution_count": null,
      "outputs": [
        {
          "output_type": "stream",
          "name": "stdout",
          "text": [
            "Archive:  /content/heart-disease-prediction.zip\n",
            "replace dataset.csv? [y]es, [n]o, [A]ll, [N]one, [r]ename: "
          ]
        }
      ]
    },
    {
      "cell_type": "code",
      "source": [],
      "metadata": {
        "id": "GBsGRtklVTui"
      },
      "execution_count": null,
      "outputs": []
    }
  ]
}